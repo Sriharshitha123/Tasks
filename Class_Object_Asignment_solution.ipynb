{
  "cells": [
    {
      "cell_type": "markdown",
      "metadata": {
        "id": "UlTyvTnVDRXI"
      },
      "source": [
        "## 1. Create Python class named `Student` and display its type"
      ]
    },
    {
      "cell_type": "code",
      "execution_count": null,
      "metadata": {
        "id": "_081QilNESnr"
      },
      "outputs": [],
      "source": [
        "# CODE HERE"
      ]
    },
    {
      "cell_type": "code",
      "execution_count": 6,
      "metadata": {
        "colab": {
          "base_uri": "https://localhost:8080/"
        },
        "id": "DCcHnvOSDU9N",
        "outputId": "d1a5e83f-f782-4365-bf5f-214bdb14b9f4"
      },
      "outputs": [
        {
          "output_type": "stream",
          "name": "stdout",
          "text": [
            "<class 'type'>\n"
          ]
        }
      ],
      "source": [
        "#Create Python class named Student and display its type\n",
        "class Student:\n",
        "    variable1 = \"This is Variable1\"\n",
        "\n",
        "print(type(Student))\n"
      ]
    },
    {
      "cell_type": "markdown",
      "metadata": {
        "id": "nYjL6Efcx6ad"
      },
      "source": [
        "## 2. How to call a variable and function by creating a simple class\n"
      ]
    },
    {
      "cell_type": "code",
      "execution_count": 7,
      "metadata": {
        "colab": {
          "base_uri": "https://localhost:8080/"
        },
        "id": "2cVJl1pTyQtS",
        "outputId": "6e36d811-d308-478d-a79b-ff791e500e3d"
      },
      "outputs": [
        {
          "output_type": "stream",
          "name": "stdout",
          "text": [
            "Rover\n",
            "I'm Rover and I am barking!\n"
          ]
        }
      ],
      "source": [
        "class Dog:\n",
        "    # Constructor to initialize the variable\n",
        "    def __init__(self, name):\n",
        "        self.name = name  # Instance variable\n",
        "\n",
        "    # Method to print a message\n",
        "    def bark(self):\n",
        "        return f\"I'm {self.name} and I am barking!\"\n",
        "\n",
        "# Create an instance of the Dog class\n",
        "my_dog = Dog(\"Rover\")\n",
        "\n",
        "# Access the instance variable\n",
        "print(my_dog.name)  # Output: Rover\n",
        "\n",
        "# Call the method\n",
        "print(my_dog.bark())  # Output: I'm Rover and I am barking!\n"
      ]
    },
    {
      "cell_type": "markdown",
      "metadata": {
        "id": "Qrn6EsJ7putu"
      },
      "source": [
        "## 3. Create a class with one `static variable` and two `instace variables`"
      ]
    },
    {
      "cell_type": "code",
      "execution_count": 8,
      "metadata": {
        "colab": {
          "base_uri": "https://localhost:8080/"
        },
        "id": "D5z1cympyQwS",
        "outputId": "ee3f02d7-b401-4496-c1bd-4720bbc0bfe1"
      },
      "outputs": [
        {
          "output_type": "stream",
          "name": "stdout",
          "text": [
            "I am Static variable\n",
            "instance_var1\n",
            "instance_var2\n"
          ]
        }
      ],
      "source": [
        "class Demo:\n",
        "    # Static variable (class variable)\n",
        "    static_var = \"I am Static variable\"\n",
        "\n",
        "    def __init__(self, instance_var1, instance_var2):\n",
        "        # Instance variables\n",
        "        self.instance_var1 = instance_var1\n",
        "        self.instance_var2 = instance_var2\n",
        "\n",
        "    def display(self):\n",
        "        # Method to print the static variable and instance variables\n",
        "        print(Demo.static_var)\n",
        "        print(self.instance_var1)\n",
        "        print(self.instance_var2)\n",
        "\n",
        "# Create an instance of the Demo class\n",
        "demo_instance = Demo(\"instance_var1\", \"instance_var2\")\n",
        "\n",
        "# Call the method to display the variables\n",
        "demo_instance.display()\n"
      ]
    },
    {
      "cell_type": "markdown",
      "metadata": {
        "id": "m2__2x3B_gub"
      },
      "source": [
        "## 4. Create a `Vehicle` class with max_speed and mileage instance attributes"
      ]
    },
    {
      "cell_type": "code",
      "execution_count": null,
      "metadata": {
        "id": "4M2ggFoC_hqV"
      },
      "outputs": [],
      "source": [
        "# CODE HERE"
      ]
    },
    {
      "cell_type": "code",
      "execution_count": 9,
      "metadata": {
        "colab": {
          "base_uri": "https://localhost:8080/"
        },
        "id": "uTyOnoPN_qVJ",
        "outputId": "b2c1405c-6deb-47c4-d0b3-42a71409cead"
      },
      "outputs": [
        {
          "output_type": "stream",
          "name": "stdout",
          "text": [
            "240 18\n"
          ]
        }
      ],
      "source": [
        "class Vehicle:\n",
        "    def __init__(self, max_speed, mileage):\n",
        "        # Instance variables\n",
        "        self.max_speed = max_speed\n",
        "        self.mileage = mileage\n",
        "\n",
        "    def display(self):\n",
        "        # Method to print the attributes\n",
        "        print(self.max_speed, self.mileage)\n",
        "\n",
        "# Create an instance of the Vehicle class\n",
        "vehicle = Vehicle(240, 18)\n",
        "\n",
        "# Call the method to display the attributes\n",
        "vehicle.display()\n"
      ]
    },
    {
      "cell_type": "code",
      "execution_count": null,
      "metadata": {
        "id": "_Pq79YB0_rF2"
      },
      "outputs": [],
      "source": []
    },
    {
      "cell_type": "markdown",
      "metadata": {
        "id": "dGGYG_Sm1N4y"
      },
      "source": [
        "## 5. Create a simple class `Person` with constructer and one argument `name`"
      ]
    },
    {
      "cell_type": "code",
      "execution_count": null,
      "metadata": {
        "id": "zkAdBgQP1bNW"
      },
      "outputs": [],
      "source": [
        "# CODE HERE"
      ]
    },
    {
      "cell_type": "code",
      "execution_count": 10,
      "metadata": {
        "colab": {
          "base_uri": "https://localhost:8080/"
        },
        "id": "i5vQQoIu0X_f",
        "outputId": "06148750-7aae-4f01-d022-42f4da6f9935"
      },
      "outputs": [
        {
          "output_type": "stream",
          "name": "stdout",
          "text": [
            "Hello, my name is Ram\n"
          ]
        }
      ],
      "source": [
        "class Person:\n",
        "    def __init__(self, name):\n",
        "        # Initialize the instance variable\n",
        "        self.name = name\n",
        "\n",
        "    def say_hi(self):\n",
        "        # Method to print a greeting\n",
        "        print(f\"Hello, my name is {self.name}\")\n",
        "\n",
        "# Create an instance of the Person class\n",
        "p = Person('Ram')\n",
        "\n",
        "# Call the method to display the greeting\n",
        "p.say_hi()\n"
      ]
    },
    {
      "cell_type": "code",
      "execution_count": null,
      "metadata": {
        "id": "JgeHHyrp2h1u"
      },
      "outputs": [],
      "source": []
    },
    {
      "cell_type": "markdown",
      "metadata": {
        "id": "T9AQ6X3i2k6l"
      },
      "source": [
        "## 6. Create a class for `Students` information like `name, rollno, marks` and `school name` with static variable.\n",
        "- create a function for displaying student information\n",
        "- create one more function for getting students marks and percentage"
      ]
    },
    {
      "cell_type": "code",
      "execution_count": 11,
      "metadata": {
        "colab": {
          "base_uri": "https://localhost:8080/"
        },
        "id": "cX4Z5_nx2h-O",
        "outputId": "2e0e26db-f28c-4b5d-e6cf-bf323df3a105"
      },
      "outputs": [
        {
          "output_type": "stream",
          "name": "stdout",
          "text": [
            "Name: abc, RollNo: 1, Marks: 399, College: DIT\n",
            "Dictionary : {'name': 'abc', 'rno': 1, 'marks': 399}\n",
            "percentage of 399 out of 500 is : 79.80000000000001\n"
          ]
        }
      ],
      "source": [
        "class Student:\n",
        "    # Static variable\n",
        "    school_name = \"DIT\"\n",
        "\n",
        "    def __init__(self, name, rollno, marks):\n",
        "        # Instance variables\n",
        "        self.name = name\n",
        "        self.rollno = rollno\n",
        "        self.marks = marks\n",
        "\n",
        "    def display_info(self):\n",
        "        # Method to display student information\n",
        "        print(f\"Name: {self.name}, RollNo: {self.rollno}, Marks: {self.marks}, College: {Student.school_name}\")\n",
        "\n",
        "    def get_marks_and_percentage(self, total_marks):\n",
        "        # Method to get marks and calculate percentage\n",
        "        percentage = (self.marks / total_marks) * 100\n",
        "        info_dict = {\n",
        "            'name': self.name,\n",
        "            'rno': self.rollno,\n",
        "            'marks': self.marks\n",
        "        }\n",
        "        print(f\"Dictionary : {info_dict}\")\n",
        "        print(f\"percentage of {self.marks} out of {total_marks} is : {percentage}\")\n",
        "\n",
        "# Create an instance of the Student class\n",
        "student = Student('abc', 1, 399)\n",
        "\n",
        "# Display student information\n",
        "student.display_info()\n",
        "\n",
        "# Get marks and percentage (assuming total_marks is 500)\n",
        "student.get_marks_and_percentage(500)\n"
      ]
    },
    {
      "cell_type": "markdown",
      "metadata": {
        "id": "x-zGvkOi_9PD"
      },
      "source": [
        "## 7. Create a child class `Bus` that will inherit all of the variables and methods of the `Vehicle` class"
      ]
    },
    {
      "cell_type": "code",
      "execution_count": null,
      "metadata": {
        "id": "5IppTc73__tp"
      },
      "outputs": [],
      "source": [
        "# CODE HERE"
      ]
    },
    {
      "cell_type": "code",
      "execution_count": 12,
      "metadata": {
        "colab": {
          "base_uri": "https://localhost:8080/"
        },
        "id": "Qf4ZRcg8ADOq",
        "outputId": "ff6e2faa-8995-4dc5-f838-9a2e78221a79"
      },
      "outputs": [
        {
          "output_type": "stream",
          "name": "stdout",
          "text": [
            "Vehicle Name: School Bus Speed: 180 Mileage: 12\n"
          ]
        }
      ],
      "source": [
        "class Vehicle:\n",
        "    def __init__(self, name, max_speed, mileage):\n",
        "        # Instance variables\n",
        "        self.name = name\n",
        "        self.max_speed = max_speed\n",
        "        self.mileage = mileage\n",
        "\n",
        "    def display(self):\n",
        "        # Method to print vehicle details\n",
        "        print(f\"Vehicle Name: {self.name} Speed: {self.max_speed} Mileage: {self.mileage}\")\n",
        "\n",
        "# Define the Bus class that inherits from Vehicle\n",
        "class Bus(Vehicle):\n",
        "    def __init__(self, name, max_speed, mileage):\n",
        "        # Initialize the parent class with the parameters\n",
        "        super().__init__(name, max_speed, mileage)\n",
        "\n",
        "# Create an instance of the Bus class\n",
        "bus = Bus(\"School Bus\", 180, 12)\n",
        "\n",
        "# Call the display method\n",
        "bus.display()\n"
      ]
    },
    {
      "cell_type": "markdown",
      "metadata": {
        "id": "Cex1VHlicvR0"
      },
      "source": [
        "## 8. Create a class `Employee` with two arguments `name and salary`\n",
        "- create a function which displays the employee information\n",
        "- Print total number of employees"
      ]
    },
    {
      "cell_type": "code",
      "execution_count": 13,
      "metadata": {
        "colab": {
          "base_uri": "https://localhost:8080/"
        },
        "id": "BcTNOVUiAIn7",
        "outputId": "6d109643-99ce-4399-dacf-3bbf728f31b4"
      },
      "outputs": [
        {
          "output_type": "stream",
          "name": "stdout",
          "text": [
            "Name: Zara , Salary: 2000\n",
            "Name: Manni , Salary: 5000\n",
            "Total Employees: 2\n"
          ]
        }
      ],
      "source": [
        "class Employee:\n",
        "    # Class variable to count the number of employees\n",
        "    total_employees = 0\n",
        "\n",
        "    def __init__(self, name, salary):\n",
        "        # Instance variables\n",
        "        self.name = name\n",
        "        self.salary = salary\n",
        "        # Increment the total number of employees when a new instance is created\n",
        "        Employee.total_employees += 1\n",
        "\n",
        "    def display_info(self):\n",
        "        # Method to display employee information\n",
        "        print(f\"Name: {self.name} , Salary: {self.salary}\")\n",
        "\n",
        "# Create instances of Employee\n",
        "employee1 = Employee(\"Zara\", 2000)\n",
        "employee2 = Employee(\"Manni\", 5000)\n",
        "\n",
        "# Display employee information\n",
        "employee1.display_info()\n",
        "employee2.display_info()\n",
        "\n",
        "# Print the total number of employees\n",
        "print(f\"Total Employees: {Employee.total_employees}\")\n"
      ]
    },
    {
      "cell_type": "code",
      "execution_count": null,
      "metadata": {
        "id": "BmFF6kFScPGl"
      },
      "outputs": [],
      "source": []
    }
  ],
  "metadata": {
    "colab": {
      "provenance": []
    },
    "kernelspec": {
      "display_name": "Python 3",
      "language": "python",
      "name": "python3"
    },
    "language_info": {
      "codemirror_mode": {
        "name": "ipython",
        "version": 3
      },
      "file_extension": ".py",
      "mimetype": "text/x-python",
      "name": "python",
      "nbconvert_exporter": "python",
      "pygments_lexer": "ipython3",
      "version": "3.8.8"
    }
  },
  "nbformat": 4,
  "nbformat_minor": 0
}