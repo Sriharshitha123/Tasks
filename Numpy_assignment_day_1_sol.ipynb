{
  "nbformat": 4,
  "nbformat_minor": 0,
  "metadata": {
    "colab": {
      "provenance": []
    },
    "kernelspec": {
      "name": "python3",
      "display_name": "Python 3"
    },
    "language_info": {
      "name": "python"
    }
  },
  "cells": [
    {
      "cell_type": "markdown",
      "source": [
        "### NumPy Exercises\n",
        "##### Now that we've learned about NumPy let's test your knowledge. We'll start off with a few simple tasks and then you'll be asked some more complicated questions.\n",
        "##### IMPORTANT NOTE! Make sure you don't run the cells directly above the example output shown, otherwise you will end up writing over the example output!"
      ],
      "metadata": {
        "id": "F6px4MSR51Gu"
      }
    },
    {
      "cell_type": "code",
      "execution_count": 1,
      "metadata": {
        "id": "Qe-tLGBa2sNS"
      },
      "outputs": [],
      "source": [
        "import numpy as np"
      ]
    },
    {
      "cell_type": "markdown",
      "source": [
        "#####1.  Write a NumPy program to create an array of 10 zeros,10 ones, 10 fives."
      ],
      "metadata": {
        "id": "TAAoEMyE6bj6"
      }
    },
    {
      "cell_type": "code",
      "source": [
        "### code here\n",
        "import numpy as np\n",
        "\n",
        "# Create an array of 10 zeros\n",
        "zeros_array = np.zeros(10)\n",
        "print(\"An array of 10 zeros:\")\n",
        "print(zeros_array)\n",
        "\n",
        "# Create an array of 10 ones\n",
        "ones_array = np.ones(10)\n",
        "print(\"\\nAn array of 10 ones:\")\n",
        "print(ones_array)\n",
        "\n",
        "# Create an array of 10 fives\n",
        "fives_array = np.full(10, 5)  # Using np.full to create an array with a specific value\n",
        "print(\"\\nAn array of 10 fives:\")\n",
        "print(fives_array)\n",
        "\n",
        "\n",
        "\n",
        "\n",
        "\n"
      ],
      "metadata": {
        "id": "_BxASjIo6B1X",
        "colab": {
          "base_uri": "https://localhost:8080/"
        },
        "outputId": "9488243d-d464-4803-8c79-8e91d28bfb9a"
      },
      "execution_count": 2,
      "outputs": [
        {
          "output_type": "stream",
          "name": "stdout",
          "text": [
            "An array of 10 zeros:\n",
            "[0. 0. 0. 0. 0. 0. 0. 0. 0. 0.]\n",
            "\n",
            "An array of 10 ones:\n",
            "[1. 1. 1. 1. 1. 1. 1. 1. 1. 1.]\n",
            "\n",
            "An array of 10 fives:\n",
            "[5 5 5 5 5 5 5 5 5 5]\n"
          ]
        }
      ]
    },
    {
      "cell_type": "markdown",
      "source": [
        "#####2.  Write a NumPy program to create an array of the integers from 30 to 70."
      ],
      "metadata": {
        "id": "6gbrDc0_6ja8"
      }
    },
    {
      "cell_type": "code",
      "source": [
        "### code here"
      ],
      "metadata": {
        "id": "Rrdz7C556B4Y"
      },
      "execution_count": null,
      "outputs": []
    },
    {
      "cell_type": "code",
      "source": [
        "### sample output\n",
        "import numpy as np\n",
        "\n",
        "# Create an array of integers from 30 to 70\n",
        "array = np.arange(30, 71)  # The upper limit is exclusive, so use 71 to include 70\n",
        "print(\"Array of the integers from 30 to 70:\")\n",
        "print(array)\n"
      ],
      "metadata": {
        "colab": {
          "base_uri": "https://localhost:8080/"
        },
        "id": "S8kKjMd79rrK",
        "outputId": "c7f66284-21cc-4c7e-a0a1-fb37e8335bfb"
      },
      "execution_count": 3,
      "outputs": [
        {
          "output_type": "stream",
          "name": "stdout",
          "text": [
            "Array of the integers from 30 to 70:\n",
            "[30 31 32 33 34 35 36 37 38 39 40 41 42 43 44 45 46 47 48 49 50 51 52 53\n",
            " 54 55 56 57 58 59 60 61 62 63 64 65 66 67 68 69 70]\n"
          ]
        }
      ]
    },
    {
      "cell_type": "markdown",
      "source": [
        "######3. Write a NumPy program to create an array of all the even integers from 10 to 50."
      ],
      "metadata": {
        "id": "-1Z-hSI66oXd"
      }
    },
    {
      "cell_type": "code",
      "source": [
        "### code here"
      ],
      "metadata": {
        "id": "-TwKGj2o6nBV"
      },
      "execution_count": null,
      "outputs": []
    },
    {
      "cell_type": "code",
      "source": [
        "## sample output\n",
        "import numpy as np\n",
        "\n",
        "# Create an array of even integers from 10 to 50\n",
        "even_array = np.arange(10, 51, 2)\n",
        "print(\"Array of even integers from 10 to 50:\")\n",
        "print(even_array)\n"
      ],
      "metadata": {
        "colab": {
          "base_uri": "https://localhost:8080/"
        },
        "id": "qo8PSuCZ99KT",
        "outputId": "7e07cab1-9d6a-4fe3-aa9d-7bfe30a972ed"
      },
      "execution_count": 4,
      "outputs": [
        {
          "output_type": "stream",
          "name": "stdout",
          "text": [
            "Array of even integers from 10 to 50:\n",
            "[10 12 14 16 18 20 22 24 26 28 30 32 34 36 38 40 42 44 46 48 50]\n"
          ]
        }
      ]
    },
    {
      "cell_type": "markdown",
      "source": [
        "######4. Write a NumPy program to create a 3x3 identity matrix."
      ],
      "metadata": {
        "id": "av8golKd6z8l"
      }
    },
    {
      "cell_type": "code",
      "source": [
        "### code here"
      ],
      "metadata": {
        "id": "A4oaHF5L6nDB"
      },
      "execution_count": null,
      "outputs": []
    },
    {
      "cell_type": "code",
      "source": [
        "## sample output\n",
        "import numpy as np\n",
        "\n",
        "# Create a 3x3 identity matrix\n",
        "identity_matrix = np.eye(3)\n",
        "print(\"3x3 identity matrix:\")\n",
        "print(identity_matrix)"
      ],
      "metadata": {
        "colab": {
          "base_uri": "https://localhost:8080/"
        },
        "id": "Gju3JHbf-PLV",
        "outputId": "21326153-c323-4c27-e01e-6c34210577a8"
      },
      "execution_count": 5,
      "outputs": [
        {
          "output_type": "stream",
          "name": "stdout",
          "text": [
            "3x3 identity matrix:\n",
            "[[1. 0. 0.]\n",
            " [0. 1. 0.]\n",
            " [0. 0. 1.]]\n"
          ]
        }
      ]
    },
    {
      "cell_type": "markdown",
      "source": [
        "##### 5. Write a NumPy program to generate a random number between 0 and 1"
      ],
      "metadata": {
        "id": "bmfuxShM-nvi"
      }
    },
    {
      "cell_type": "code",
      "source": [
        "### code here"
      ],
      "metadata": {
        "id": "ufPWx-Bo6nFv"
      },
      "execution_count": null,
      "outputs": []
    },
    {
      "cell_type": "code",
      "source": [
        "## sample output\n",
        "import numpy as np\n",
        "\n",
        "# Generate a random number between 0 and 1\n",
        "random_number = np.random.rand()\n",
        "print(\"Random number between 0 and 1:\")\n",
        "print(random_number)"
      ],
      "metadata": {
        "colab": {
          "base_uri": "https://localhost:8080/"
        },
        "id": "9PRNc0Pg6nIO",
        "outputId": "7f599610-05e1-4b81-8125-b63dc7464bd1"
      },
      "execution_count": 6,
      "outputs": [
        {
          "output_type": "stream",
          "name": "stdout",
          "text": [
            "Random number between 0 and 1:\n",
            "0.30600763098323736\n"
          ]
        }
      ]
    },
    {
      "cell_type": "markdown",
      "source": [
        "###### 6. Write a NumPy program to generate an array of 15 random numbers from a standard normal distribution."
      ],
      "metadata": {
        "id": "hm-lJXi--3px"
      }
    },
    {
      "cell_type": "code",
      "source": [
        "## code here"
      ],
      "metadata": {
        "id": "tFPEvuTr6nMg"
      },
      "execution_count": null,
      "outputs": []
    },
    {
      "cell_type": "code",
      "source": [
        "## sample output\n",
        "import numpy as np\n",
        "\n",
        "# Generate an array of 15 random numbers from a standard normal distribution\n",
        "random_array = np.random.randn(15)\n",
        "print(\"Array of 15 random numbers from a standard normal distribution:\")\n",
        "print(random_array)"
      ],
      "metadata": {
        "colab": {
          "base_uri": "https://localhost:8080/"
        },
        "id": "DfcnbfwC6B8c",
        "outputId": "b4612861-1026-454b-f02c-d17451a5b233"
      },
      "execution_count": 7,
      "outputs": [
        {
          "output_type": "stream",
          "name": "stdout",
          "text": [
            "Array of 15 random numbers from a standard normal distribution:\n",
            "[-0.31530015 -0.79831293 -1.04375024  0.77351437 -0.5151657  -1.47410606\n",
            " -1.24570403 -0.40235058  0.13774173  1.04776297  0.31309049 -0.00599337\n",
            " -1.61316218 -1.83347727 -0.65689203]\n"
          ]
        }
      ]
    },
    {
      "cell_type": "markdown",
      "source": [
        "###### 7. Write a NumPy program to create a 3X4 array using and iterate over it."
      ],
      "metadata": {
        "id": "UIMv6m1t_G7q"
      }
    },
    {
      "cell_type": "code",
      "source": [
        "## code here\n",
        "import numpy as np\n",
        "\n",
        "# Create a 3x4 array\n",
        "array = np.array([[10, 11, 12, 13],\n",
        "                  [14, 15, 16, 17],\n",
        "                  [18, 19, 20, 21]])\n",
        "\n",
        "# Print the original array\n",
        "print(\"Original array:\")\n",
        "print(array)\n",
        "\n",
        "# Iterate over the array and print each element\n",
        "print(\"\\nEach element of the array is:\")\n",
        "for row in array:\n",
        "    for element in row:\n",
        "        print(element, end=' ')\n",
        "\n"
      ],
      "metadata": {
        "id": "WyYvr-ly-7y5",
        "colab": {
          "base_uri": "https://localhost:8080/"
        },
        "outputId": "56cc2f05-a6d9-49ef-c93b-ef0c7da571cc"
      },
      "execution_count": 8,
      "outputs": [
        {
          "output_type": "stream",
          "name": "stdout",
          "text": [
            "Original array:\n",
            "[[10 11 12 13]\n",
            " [14 15 16 17]\n",
            " [18 19 20 21]]\n",
            "\n",
            "Each element of the array is:\n",
            "10 11 12 13 14 15 16 17 18 19 20 21 "
          ]
        }
      ]
    },
    {
      "cell_type": "code",
      "source": [
        "## sample output\n"
      ],
      "metadata": {
        "colab": {
          "base_uri": "https://localhost:8080/"
        },
        "id": "T_oeyAt8_Jv-",
        "outputId": "dd6207cd-8b15-4d98-fdd8-e109262fec5b"
      },
      "execution_count": null,
      "outputs": [
        {
          "output_type": "stream",
          "name": "stdout",
          "text": [
            "Original array:\n",
            "[[10 11 12 13]\n",
            " [14 15 16 17]\n",
            " [18 19 20 21]]\n",
            "Each element of the array is:\n",
            "10 11 12 13 14 15 16 17 18 19 20 21 "
          ]
        }
      ]
    },
    {
      "cell_type": "markdown",
      "source": [
        "###### 8. Write a NumPy program to multiply the values ​​of two given vectors."
      ],
      "metadata": {
        "id": "pMshtaUT_fT0"
      }
    },
    {
      "cell_type": "code",
      "source": [
        "## code here\n",
        "import numpy as np\n",
        "\n",
        "# Define the two vectors\n",
        "vector1 = np.array([1, 8, 3, 5])\n",
        "vector2 = np.array([10, 1, 4, 10])\n",
        "\n",
        "# Print the vectors\n",
        "print(\"Vector-1\")\n",
        "print(vector1)\n",
        "print(\"Vector-2\")\n",
        "print(vector2)\n",
        "\n",
        "# Multiply the values of the two vectors element-wise\n",
        "result = vector1 * vector2\n",
        "\n",
        "# Print the result\n",
        "print(\"Multiply the values of two said vectors:\")\n",
        "print(result)\n"
      ],
      "metadata": {
        "id": "hD8Uk9J0_JxY",
        "colab": {
          "base_uri": "https://localhost:8080/"
        },
        "outputId": "3d84c0f5-5941-4fc0-e709-41e8d0c1ae52"
      },
      "execution_count": 9,
      "outputs": [
        {
          "output_type": "stream",
          "name": "stdout",
          "text": [
            "Vector-1\n",
            "[1 8 3 5]\n",
            "Vector-2\n",
            "[10  1  4 10]\n",
            "Multiply the values of two said vectors:\n",
            "[10  8 12 50]\n"
          ]
        }
      ]
    },
    {
      "cell_type": "code",
      "source": [
        "## sample output"
      ],
      "metadata": {
        "colab": {
          "base_uri": "https://localhost:8080/"
        },
        "id": "wVIZTuNW_kZ3",
        "outputId": "8d259f41-f447-4480-d452-da123a8db61e"
      },
      "execution_count": null,
      "outputs": [
        {
          "output_type": "stream",
          "name": "stdout",
          "text": [
            "Vector-1\n",
            "[1 8 3 5]\n",
            "Vector-2\n",
            "[10  1  4 10]\n",
            "Multiply the values of two said vectors:\n",
            "[10  8 12 50]\n"
          ]
        }
      ]
    },
    {
      "cell_type": "markdown",
      "source": [
        "###### 9. Write a NumPy program to reverse an array (first element becomes last)."
      ],
      "metadata": {
        "id": "h7ny_Xci_07Q"
      }
    },
    {
      "cell_type": "code",
      "source": [
        "### code here\n",
        "import numpy as np\n",
        "\n",
        "# Define the original array\n",
        "original_array = np.array([12, 13, 14, 15, 16, 17, 18, 19, 20, 21, 22, 23, 24, 25, 26, 27, 28, 29, 30, 31, 32, 33, 34, 35, 36, 37])\n",
        "\n",
        "# Print the original array\n",
        "print(\"Original array:\")\n",
        "print(original_array)\n",
        "\n",
        "# Reverse the array\n",
        "reversed_array = original_array[::-1]\n",
        "\n",
        "# Print the reversed array\n",
        "print(\"Reverse array:\")\n",
        "print(reversed_array)\n"
      ],
      "metadata": {
        "id": "CQZLCU4Z_J0M",
        "colab": {
          "base_uri": "https://localhost:8080/"
        },
        "outputId": "b95db595-f8e2-4d5c-a671-c59d76806708"
      },
      "execution_count": 10,
      "outputs": [
        {
          "output_type": "stream",
          "name": "stdout",
          "text": [
            "Original array:\n",
            "[12 13 14 15 16 17 18 19 20 21 22 23 24 25 26 27 28 29 30 31 32 33 34 35\n",
            " 36 37]\n",
            "Reverse array:\n",
            "[37 36 35 34 33 32 31 30 29 28 27 26 25 24 23 22 21 20 19 18 17 16 15 14\n",
            " 13 12]\n"
          ]
        }
      ]
    },
    {
      "cell_type": "code",
      "source": [
        "## sample output"
      ],
      "metadata": {
        "colab": {
          "base_uri": "https://localhost:8080/"
        },
        "id": "6zOol0u2_J21",
        "outputId": "b1772711-603d-468e-bdc3-d675873cf5fd"
      },
      "execution_count": null,
      "outputs": [
        {
          "output_type": "stream",
          "name": "stdout",
          "text": [
            "Original array:\n",
            "[12 13 14 15 16 17 18 19 20 21 22 23 24 25 26 27 28 29 30 31 32 33 34 35\n",
            " 36 37]\n",
            "Reverse array:\n",
            "[37 36 35 34 33 32 31 30 29 28 27 26 25 24 23 22 21 20 19 18 17 16 15 14\n",
            " 13 12]\n"
          ]
        }
      ]
    },
    {
      "cell_type": "markdown",
      "source": [
        "##### 10. Write a NumPy program to create a 5x5 zero matrix with elements on the main diagonal equal to 1, 2, 3, 4, 5."
      ],
      "metadata": {
        "id": "-y0LYMweAC3M"
      }
    },
    {
      "cell_type": "code",
      "source": [
        "## code here\n",
        "import numpy as np\n",
        "\n",
        "# Define the diagonal elements\n",
        "diagonal_elements = np.array([1, 2, 3, 4, 5])\n",
        "\n",
        "# Create the 5x5 matrix with the specified diagonal elements\n",
        "matrix = np.diag(diagonal_elements)\n",
        "\n",
        "# Print the matrix\n",
        "print(matrix)\n"
      ],
      "metadata": {
        "id": "nJnstERf_J5T",
        "colab": {
          "base_uri": "https://localhost:8080/"
        },
        "outputId": "ca9070bf-1ba9-453d-c6fc-e090c0bcfc38"
      },
      "execution_count": 11,
      "outputs": [
        {
          "output_type": "stream",
          "name": "stdout",
          "text": [
            "[[1 0 0 0 0]\n",
            " [0 2 0 0 0]\n",
            " [0 0 3 0 0]\n",
            " [0 0 0 4 0]\n",
            " [0 0 0 0 5]]\n"
          ]
        }
      ]
    },
    {
      "cell_type": "code",
      "source": [
        "## sample output"
      ],
      "metadata": {
        "colab": {
          "base_uri": "https://localhost:8080/"
        },
        "id": "rOh6nIXl_J78",
        "outputId": "84736fa7-e5a0-4e8e-c8f2-06005fc5502a"
      },
      "execution_count": null,
      "outputs": [
        {
          "output_type": "stream",
          "name": "stdout",
          "text": [
            "[[1 0 0 0 0]\n",
            " [0 2 0 0 0]\n",
            " [0 0 3 0 0]\n",
            " [0 0 0 4 0]\n",
            " [0 0 0 0 5]]\n"
          ]
        }
      ]
    },
    {
      "cell_type": "markdown",
      "source": [
        "###### 11. Write a NumPy program to compute sum of all elements, sum of each column and sum of each row of a given array."
      ],
      "metadata": {
        "id": "h7nmiqKNAYH1"
      }
    },
    {
      "cell_type": "code",
      "source": [
        "## code here\n",
        "import numpy as np\n",
        "\n",
        "# Define the array\n",
        "array = np.array([[0, 1],\n",
        "                  [2, 3]])\n",
        "\n",
        "# Print the original array\n",
        "print(\"Original array:\")\n",
        "print(array)\n",
        "\n",
        "# Compute the sum of all elements\n",
        "total_sum = np.sum(array)\n",
        "print(\"Sum of all elements:\")\n",
        "print(total_sum)\n",
        "\n",
        "# Compute the sum of each column\n",
        "sum_columns = np.sum(array, axis=0)\n",
        "print(\"Sum of each column:\")\n",
        "print(sum_columns)\n",
        "\n",
        "# Compute the sum of each row\n",
        "sum_rows = np.sum(array, axis=1)\n",
        "print(\"Sum of each row:\")\n",
        "print(sum_rows)\n"
      ],
      "metadata": {
        "id": "zWHfl9BS_J-a",
        "colab": {
          "base_uri": "https://localhost:8080/"
        },
        "outputId": "7b8a46d1-0539-48cb-b0b8-11a89cb0551e"
      },
      "execution_count": 12,
      "outputs": [
        {
          "output_type": "stream",
          "name": "stdout",
          "text": [
            "Original array:\n",
            "[[0 1]\n",
            " [2 3]]\n",
            "Sum of all elements:\n",
            "6\n",
            "Sum of each column:\n",
            "[2 4]\n",
            "Sum of each row:\n",
            "[1 5]\n"
          ]
        }
      ]
    },
    {
      "cell_type": "code",
      "source": [
        "## sample output"
      ],
      "metadata": {
        "colab": {
          "base_uri": "https://localhost:8080/"
        },
        "id": "CLTx-HRh_KBI",
        "outputId": "aa907d23-10c0-4b2a-c499-6c1d61b95b0d"
      },
      "execution_count": null,
      "outputs": [
        {
          "output_type": "stream",
          "name": "stdout",
          "text": [
            "Original array:\n",
            "[[0 1]\n",
            " [2 3]]\n",
            "Sum of all elements:\n",
            "6\n",
            "Sum of each column:\n",
            "[2 4]\n",
            "Sum of each row:\n",
            "[1 5]\n"
          ]
        }
      ]
    },
    {
      "cell_type": "markdown",
      "source": [
        "###### 12. Write a NumPy program to compute the inner product of two given vectors."
      ],
      "metadata": {
        "id": "4JSLT9ImAnKn"
      }
    },
    {
      "cell_type": "code",
      "source": [
        "## code here\n",
        "import numpy as np\n",
        "\n",
        "# Define the two vectors\n",
        "vector1 = np.array([4, 5])\n",
        "vector2 = np.array([7, 10])\n",
        "\n",
        "# Print the original vectors\n",
        "print(\"Original vectors:\")\n",
        "print(vector1)\n",
        "print(vector2)\n",
        "\n",
        "# Compute the inner product\n",
        "inner_product = np.dot(vector1, vector2)\n",
        "\n",
        "# Print the result\n",
        "print(\"Inner product of said vectors:\")\n",
        "print(inner_product)\n"
      ],
      "metadata": {
        "id": "cBGxcHxe_KEt",
        "colab": {
          "base_uri": "https://localhost:8080/"
        },
        "outputId": "f326b4ad-ba1a-465b-b6dc-2aa9a5727009"
      },
      "execution_count": 13,
      "outputs": [
        {
          "output_type": "stream",
          "name": "stdout",
          "text": [
            "Original vectors:\n",
            "[4 5]\n",
            "[ 7 10]\n",
            "Inner product of said vectors:\n",
            "78\n"
          ]
        }
      ]
    },
    {
      "cell_type": "code",
      "source": [
        "## sample output"
      ],
      "metadata": {
        "colab": {
          "base_uri": "https://localhost:8080/"
        },
        "id": "AvS0_rdDAp-B",
        "outputId": "aff4e886-3e49-49c6-a9f0-cc3cce2dbc90"
      },
      "execution_count": null,
      "outputs": [
        {
          "output_type": "stream",
          "name": "stdout",
          "text": [
            "Original vectors:\n",
            "[4 5]\n",
            "[ 7 10]\n",
            "Inner product of said vectors:\n",
            "78\n"
          ]
        }
      ]
    },
    {
      "cell_type": "code",
      "source": [],
      "metadata": {
        "id": "uriWC5FSAp_N"
      },
      "execution_count": null,
      "outputs": []
    },
    {
      "cell_type": "code",
      "source": [],
      "metadata": {
        "id": "0uPHZDn8AqB5"
      },
      "execution_count": null,
      "outputs": []
    },
    {
      "cell_type": "code",
      "source": [],
      "metadata": {
        "id": "RQ_ORHYjAqGM"
      },
      "execution_count": null,
      "outputs": []
    }
  ]
}