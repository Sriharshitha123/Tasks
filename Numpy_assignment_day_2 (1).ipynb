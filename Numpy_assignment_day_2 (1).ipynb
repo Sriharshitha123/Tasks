{
  "nbformat": 4,
  "nbformat_minor": 0,
  "metadata": {
    "colab": {
      "provenance": []
    },
    "kernelspec": {
      "name": "python3",
      "display_name": "Python 3"
    },
    "language_info": {
      "name": "python"
    }
  },
  "cells": [
    {
      "cell_type": "markdown",
      "source": [
        "### NumPy Exercises\n",
        "##### Now that we've learned about NumPy let's test your knowledge. We'll start off with a few simple tasks and then you'll be asked some more complicated questions.\n",
        "##### IMPORTANT NOTE! Make sure you don't run the cells directly above the example output shown, otherwise you will end up writing over the example output!"
      ],
      "metadata": {
        "id": "KRH0lpS88abX"
      }
    },
    {
      "cell_type": "markdown",
      "source": [
        "##### import numpy as np\n"
      ],
      "metadata": {
        "id": "9KzpS47XBTWm"
      }
    },
    {
      "cell_type": "markdown",
      "source": [
        "###### 1. Write a NumPy program to find the missing data in a given array."
      ],
      "metadata": {
        "id": "V6ntuSvDBZ2G"
      }
    },
    {
      "cell_type": "code",
      "execution_count": 1,
      "metadata": {
        "id": "Z94k4mpaBClu",
        "colab": {
          "base_uri": "https://localhost:8080/"
        },
        "outputId": "952a4c1b-75d3-400e-e3e0-79155ece6a0e"
      },
      "outputs": [
        {
          "output_type": "stream",
          "name": "stdout",
          "text": [
            "Original array:\n",
            "[[ 3.  2. nan  1.]\n",
            " [10. 12. 10.  9.]\n",
            " [ 5. nan  1. nan]]\n",
            "Find the missing data of the said array:\n",
            "[[False False  True False]\n",
            " [False False False False]\n",
            " [False  True False  True]]\n"
          ]
        }
      ],
      "source": [
        "### code here\n",
        "import numpy as np\n",
        "\n",
        "# Define the array with NaN values\n",
        "array = np.array([[3., 2., np.nan, 1.],\n",
        "                  [10., 12., 10., 9.],\n",
        "                  [5., np.nan, 1., np.nan]])\n",
        "\n",
        "# Print the original array\n",
        "print(\"Original array:\")\n",
        "print(array)\n",
        "\n",
        "# Find the missing data (NaN values)\n",
        "missing_data = np.isnan(array)\n",
        "\n",
        "# Print the result\n",
        "print(\"Find the missing data of the said array:\")\n",
        "print(missing_data)\n"
      ]
    },
    {
      "cell_type": "code",
      "source": [
        "## sample output"
      ],
      "metadata": {
        "colab": {
          "base_uri": "https://localhost:8080/"
        },
        "id": "yAazoe4kBfJ-",
        "outputId": "2439fd36-9243-49e0-ef2a-f19dca335a17"
      },
      "execution_count": null,
      "outputs": [
        {
          "output_type": "stream",
          "name": "stdout",
          "text": [
            "Original array:\n",
            "[[ 3.  2. nan  1.]\n",
            " [10. 12. 10.  9.]\n",
            " [ 5. nan  1. nan]]\n",
            "\n",
            "Find the missing data of the said array:\n",
            "[[False False  True False]\n",
            " [False False False False]\n",
            " [False  True False  True]]\n"
          ]
        }
      ]
    },
    {
      "cell_type": "markdown",
      "source": [
        "##### 2. Write a NumPy program to check whether two arrays are equal (element wise) or not."
      ],
      "metadata": {
        "id": "jT038BYtB0la"
      }
    },
    {
      "cell_type": "code",
      "source": [
        "### code here\n",
        "import numpy as np\n",
        "\n",
        "# Define two arrays\n",
        "array1 = np.array([1, 2, 3, 4])\n",
        "array2 = np.array([1, 2, 3, 4])\n",
        "\n",
        "# Check if the two arrays are equal element-wise\n",
        "are_equal = np.array_equal(array1, array2)\n",
        "print(\"Are the two arrays equal element-wise?\")\n",
        "print(are_equal)\n",
        "\n",
        "# Check element-wise equality\n",
        "element_wise_comparison = array1 == array2\n",
        "print(\"\\nElement-wise comparison:\")\n",
        "print(element_wise_comparison)\n"
      ],
      "metadata": {
        "id": "0aJczGNjBfL1",
        "colab": {
          "base_uri": "https://localhost:8080/"
        },
        "outputId": "33249429-0f91-4db6-8f30-6c5f159f3f8e"
      },
      "execution_count": 2,
      "outputs": [
        {
          "output_type": "stream",
          "name": "stdout",
          "text": [
            "Are the two arrays equal element-wise?\n",
            "True\n",
            "\n",
            "Element-wise comparison:\n",
            "[ True  True  True  True]\n"
          ]
        }
      ]
    },
    {
      "cell_type": "markdown",
      "source": [
        "###### 3. Write a NumPy program to create a 4x4 array with random values, now create a new array from the said array swapping first and last rows."
      ],
      "metadata": {
        "id": "XhX1H1M_CI7S"
      }
    },
    {
      "cell_type": "code",
      "source": [
        "## code here\n",
        "import numpy as np\n",
        "\n",
        "# Create a 4x4 array with random values\n",
        "original_array = np.random.randint(0, 20, size=(4, 4))\n",
        "\n",
        "# Print the original array\n",
        "print(\"Original array:\")\n",
        "print(original_array)\n",
        "\n",
        "# Swap the first and last rows\n",
        "new_array = original_array.copy()  # Create a copy to preserve the original array\n",
        "new_array[[0, -1]] = new_array[[-1, 0]]\n",
        "\n",
        "# Print the new array after swapping rows\n",
        "print(\"\\nNew array after swapping first and last rows of the said array:\")\n",
        "print(new_array)\n"
      ],
      "metadata": {
        "id": "3HazIhbtBfOq",
        "colab": {
          "base_uri": "https://localhost:8080/"
        },
        "outputId": "4d9c5986-6e7d-4cd2-ed16-504da2108830"
      },
      "execution_count": 3,
      "outputs": [
        {
          "output_type": "stream",
          "name": "stdout",
          "text": [
            "Original array:\n",
            "[[13 18  2  0]\n",
            " [ 2 17  9  3]\n",
            " [ 5 15 15  6]\n",
            " [14 17  6  6]]\n",
            "\n",
            "New array after swapping first and last rows of the said array:\n",
            "[[14 17  6  6]\n",
            " [ 2 17  9  3]\n",
            " [ 5 15 15  6]\n",
            " [13 18  2  0]]\n"
          ]
        }
      ]
    },
    {
      "cell_type": "markdown",
      "source": [
        "###### 4. Write a NumPy program to convert a list and tuple into arrays."
      ],
      "metadata": {
        "id": "BYgy22u_kqsB"
      }
    },
    {
      "cell_type": "code",
      "source": [
        "#### code here\n",
        "import numpy as np\n",
        "\n",
        "# Sample list and tuple\n",
        "my_list = [1, 2, 3, 4]\n",
        "my_tuple = (5, 6, 7, 8)\n",
        "\n",
        "# Convert list and tuple to arrays\n",
        "array_from_list = np.array(my_list)\n",
        "array_from_tuple = np.array(my_tuple)\n",
        "\n",
        "# Print the resulting arrays\n",
        "print(\"Array from list:\", array_from_list)\n",
        "print(\"Array from tuple:\", array_from_tuple)"
      ],
      "metadata": {
        "id": "Hgmgw7J2BfUQ",
        "colab": {
          "base_uri": "https://localhost:8080/"
        },
        "outputId": "9b5c62ea-4c5e-4a8d-bc11-74a2520cdb5b"
      },
      "execution_count": 4,
      "outputs": [
        {
          "output_type": "stream",
          "name": "stdout",
          "text": [
            "Array from list: [1 2 3 4]\n",
            "Array from tuple: [5 6 7 8]\n"
          ]
        }
      ]
    },
    {
      "cell_type": "markdown",
      "source": [
        "###### 5. Write a NumPy program to find common values between two arrays."
      ],
      "metadata": {
        "id": "jzp2hg44k5O0"
      }
    },
    {
      "cell_type": "code",
      "source": [
        "### code here\n",
        "import numpy as np\n",
        "\n",
        "# Define the two arrays\n",
        "array1 = np.array([1, 2, 3, 4, 5])\n",
        "array2 = np.array([3, 5, 6, 7, 8])\n",
        "\n",
        "# Find the common values\n",
        "common_values = np.intersect1d(array1, array2)\n",
        "\n",
        "# Print the common values\n",
        "print(\"Common values between the two arrays:\", common_values)"
      ],
      "metadata": {
        "id": "1QMJVl3LBfWm",
        "colab": {
          "base_uri": "https://localhost:8080/"
        },
        "outputId": "3d14a42c-906f-4490-91c0-4a895551c4ae"
      },
      "execution_count": 5,
      "outputs": [
        {
          "output_type": "stream",
          "name": "stdout",
          "text": [
            "Common values between the two arrays: [3 5]\n"
          ]
        }
      ]
    },
    {
      "cell_type": "markdown",
      "source": [
        "###### 6. Write a NumPy program to create a new shape to an array without changing its data."
      ],
      "metadata": {
        "id": "Llt6X9k66TMD"
      }
    },
    {
      "cell_type": "code",
      "source": [
        "### code here\n",
        "import numpy as np\n",
        "\n",
        "# Create a 1-D array with 6 elements\n",
        "arr = np.arange(1, 7)\n",
        "\n",
        "# Reshape to 3x2\n",
        "new_arr1 = arr.reshape(3, 2)\n",
        "\n",
        "# Reshape to 2x3\n",
        "new_arr2 = arr.reshape(2, 3)\n",
        "\n",
        "# Print the reshaped arrays\n",
        "print(\"Reshape 3x2:\")\n",
        "print(new_arr1)\n",
        "print(\"\\nReshape 2x3:\")\n",
        "print(new_arr2)"
      ],
      "metadata": {
        "id": "rNh8SssUBfZQ",
        "colab": {
          "base_uri": "https://localhost:8080/"
        },
        "outputId": "a1a37f8b-b107-44ee-a4ec-9ea5fca051bb"
      },
      "execution_count": 6,
      "outputs": [
        {
          "output_type": "stream",
          "name": "stdout",
          "text": [
            "Reshape 3x2:\n",
            "[[1 2]\n",
            " [3 4]\n",
            " [5 6]]\n",
            "\n",
            "Reshape 2x3:\n",
            "[[1 2 3]\n",
            " [4 5 6]]\n"
          ]
        }
      ]
    },
    {
      "cell_type": "code",
      "source": [
        "### sample output"
      ],
      "metadata": {
        "colab": {
          "base_uri": "https://localhost:8080/"
        },
        "id": "1yNEqa9pBfch",
        "outputId": "2377437d-096d-43cd-ca44-1d00a7db04b3"
      },
      "execution_count": null,
      "outputs": [
        {
          "output_type": "stream",
          "name": "stdout",
          "text": [
            "Reshape 3x2:\n",
            "[[1 2]\n",
            " [3 4]\n",
            " [5 6]]\n",
            "Reshape 2x3:\n",
            "[[1 2 3]\n",
            " [4 5 6]]\n"
          ]
        }
      ]
    },
    {
      "cell_type": "markdown",
      "source": [
        "###### 7. Write a NumPy program to count the frequency of unique values in numpy array."
      ],
      "metadata": {
        "id": "nf03MRSR7JFB"
      }
    },
    {
      "cell_type": "code",
      "source": [
        "### code here\n",
        "import numpy as np\n",
        "\n",
        "# Sample array\n",
        "arr = np.array([10, 10, 20, 10, 20, 20, 20, 30, 30, 50, 40, 40])\n",
        "\n",
        "# Get unique values and their frequencies\n",
        "unique_values, counts = np.unique(arr, return_counts=True)\n",
        "\n",
        "# Print the results\n",
        "print(\"Original array:\")\n",
        "print(arr)\n",
        "print(\"\\nFrequency of unique values of the said array:\")\n",
        "print(np.asarray((unique_values, counts)))"
      ],
      "metadata": {
        "id": "NqJxDKOs6dZN",
        "colab": {
          "base_uri": "https://localhost:8080/"
        },
        "outputId": "da459252-d521-4c16-c785-f4cc0183c897"
      },
      "execution_count": 7,
      "outputs": [
        {
          "output_type": "stream",
          "name": "stdout",
          "text": [
            "Original array:\n",
            "[10 10 20 10 20 20 20 30 30 50 40 40]\n",
            "\n",
            "Frequency of unique values of the said array:\n",
            "[[10 20 30 40 50]\n",
            " [ 3  4  2  2  1]]\n"
          ]
        }
      ]
    },
    {
      "cell_type": "code",
      "source": [
        "## sample output"
      ],
      "metadata": {
        "colab": {
          "base_uri": "https://localhost:8080/"
        },
        "id": "ElvUfhXV6db6",
        "outputId": "61b70809-412a-472b-d7ca-c513b54150b5"
      },
      "execution_count": null,
      "outputs": [
        {
          "output_type": "stream",
          "name": "stdout",
          "text": [
            "Original array:\n",
            "[10 10 20 10 20 20 20 30 30 50 40 40]\n",
            "Frequency of unique values of the said array:\n",
            "[[10 20 30 40 50]\n",
            " [ 3  4  2  2  1]]\n"
          ]
        }
      ]
    },
    {
      "cell_type": "markdown",
      "source": [
        "###### 8. Write a NumPy program to broadcast on different shapes of arrays where p(3,3) + q(3)."
      ],
      "metadata": {
        "id": "a5wvDisr9SGS"
      }
    },
    {
      "cell_type": "code",
      "source": [
        "### code here\n",
        "import numpy as np\n",
        "\n",
        "# Define two arrays with different shapes\n",
        "p = np.array([[0, 0, 0],\n",
        "              [1, 2, 3],\n",
        "              [4, 5, 6]])\n",
        "q = np.array([10, 11, 12])\n",
        "\n",
        "# Perform broadcasting (addition in this case)\n",
        "result = p + q\n",
        "\n",
        "# Print the original arrays and the result\n",
        "print(\"Original arrays:\")\n",
        "print(\"Array-1\")\n",
        "print(p)\n",
        "print(\"Array-2\")\n",
        "print(q)\n",
        "print(\"\\nNew Array:\")\n",
        "print(result)"
      ],
      "metadata": {
        "id": "B3hjEaCw6dfJ",
        "colab": {
          "base_uri": "https://localhost:8080/"
        },
        "outputId": "bc62be94-989a-49d9-c275-f359539ecac3"
      },
      "execution_count": 8,
      "outputs": [
        {
          "output_type": "stream",
          "name": "stdout",
          "text": [
            "Original arrays:\n",
            "Array-1\n",
            "[[0 0 0]\n",
            " [1 2 3]\n",
            " [4 5 6]]\n",
            "Array-2\n",
            "[10 11 12]\n",
            "\n",
            "New Array:\n",
            "[[10 11 12]\n",
            " [11 13 15]\n",
            " [14 16 18]]\n"
          ]
        }
      ]
    },
    {
      "cell_type": "code",
      "source": [
        "## sample output"
      ],
      "metadata": {
        "colab": {
          "base_uri": "https://localhost:8080/"
        },
        "id": "0lteZrS-6dh0",
        "outputId": "e6a565a0-e734-4c5f-8705-ccb3f9c12270"
      },
      "execution_count": null,
      "outputs": [
        {
          "output_type": "stream",
          "name": "stdout",
          "text": [
            "Original arrays:\n",
            "Array-1\n",
            "[[0 0 0]\n",
            " [1 2 3]\n",
            " [4 5 6]]\n",
            "Array-2\n",
            "[10 11 12]\n",
            "\n",
            "New Array:\n",
            "[[10 11 12]\n",
            " [11 13 15]\n",
            " [14 16 18]]\n"
          ]
        }
      ]
    },
    {
      "cell_type": "markdown",
      "source": [
        "###### 9. Write a NumPy program to extract all the elements of the second row from a given (4x4) array."
      ],
      "metadata": {
        "id": "W9mCoSxU92BL"
      }
    },
    {
      "cell_type": "code",
      "source": [
        "### code here"
      ],
      "metadata": {
        "id": "V88Mi3yhBfgI"
      },
      "execution_count": null,
      "outputs": []
    },
    {
      "cell_type": "code",
      "source": [
        "import numpy as np\n",
        "arra_data = np.arange(0,16).reshape((4, 4))\n",
        "print(\"Original array:\")\n",
        "print(arra_data)\n",
        "print(\"\\nExtracted data: Second row\")\n",
        "print(arra_data[1,:])"
      ],
      "metadata": {
        "colab": {
          "base_uri": "https://localhost:8080/"
        },
        "id": "ybbGis1E91S8",
        "outputId": "f86b490c-1575-45b9-d16f-5b434ce02277"
      },
      "execution_count": 9,
      "outputs": [
        {
          "output_type": "stream",
          "name": "stdout",
          "text": [
            "Original array:\n",
            "[[ 0  1  2  3]\n",
            " [ 4  5  6  7]\n",
            " [ 8  9 10 11]\n",
            " [12 13 14 15]]\n",
            "\n",
            "Extracted data: Second row\n",
            "[4 5 6 7]\n"
          ]
        }
      ]
    },
    {
      "cell_type": "markdown",
      "source": [
        "###### 10. Write a NumPy program to extract third and fourth elements of the first and second rows from a given (4x4) array."
      ],
      "metadata": {
        "id": "t76Rc47gATll"
      }
    },
    {
      "cell_type": "code",
      "source": [
        "## code here\n",
        "import numpy as np\n",
        "\n",
        "# Create a 4x4 array\n",
        "arr = np.arange(16).reshape((4, 4))\n",
        "\n",
        "# Extract third and fourth elements of the first and second rows\n",
        "extracted_data = arr[:2, 2:4]\n",
        "\n",
        "# Print the original array and the extracted data\n",
        "print(\"Original array:\")\n",
        "print(arr)\n",
        "print(\"\\nExtracted data: Third and fourth elements of the first and second rows\")\n",
        "print(extracted_data)"
      ],
      "metadata": {
        "id": "tLyK4ieP91V_",
        "colab": {
          "base_uri": "https://localhost:8080/"
        },
        "outputId": "eb4d55c6-c45a-4fa3-f3a0-5d02034283e5"
      },
      "execution_count": 10,
      "outputs": [
        {
          "output_type": "stream",
          "name": "stdout",
          "text": [
            "Original array:\n",
            "[[ 0  1  2  3]\n",
            " [ 4  5  6  7]\n",
            " [ 8  9 10 11]\n",
            " [12 13 14 15]]\n",
            "\n",
            "Extracted data: Third and fourth elements of the first and second rows\n",
            "[[2 3]\n",
            " [6 7]]\n"
          ]
        }
      ]
    },
    {
      "cell_type": "code",
      "source": [
        "## sample output\n"
      ],
      "metadata": {
        "colab": {
          "base_uri": "https://localhost:8080/"
        },
        "id": "WzHXmOQ091Y1",
        "outputId": "ca0f6059-f622-4e59-c563-96b95ef291fa"
      },
      "execution_count": null,
      "outputs": [
        {
          "output_type": "stream",
          "name": "stdout",
          "text": [
            "Original array:\n",
            "[[ 0  1  2  3]\n",
            " [ 4  5  6  7]\n",
            " [ 8  9 10 11]\n",
            " [12 13 14 15]]\n",
            "\n",
            "Extracted data: Third and fourth elements of the first and second rows \n",
            "[[2 3]\n",
            " [6 7]]\n"
          ]
        }
      ]
    },
    {
      "cell_type": "markdown",
      "source": [
        "###### 11. Write a NumPy program to get the dates of yesterday, today and tomorrow."
      ],
      "metadata": {
        "id": "mES8f4RDFxtM"
      }
    },
    {
      "cell_type": "code",
      "source": [
        "### code here\n",
        "from datetime import date, timedelta\n",
        "\n",
        "# Get today's date\n",
        "today = date.today()\n",
        "\n",
        "# Calculate yesterday and tomorrow\n",
        "yesterday = today - timedelta(days=1)\n",
        "tomorrow = today + timedelta(days=1)\n",
        "\n",
        "# Print the dates\n",
        "print(\"Yesterday:\", yesterday)\n",
        "print(\"Today:\", today)\n",
        "print(\"Tomorrow:\", tomorrow)"
      ],
      "metadata": {
        "id": "fyBw7Uo-Aoad",
        "colab": {
          "base_uri": "https://localhost:8080/"
        },
        "outputId": "764e7b27-5403-45e0-c44f-24245a64b8fc"
      },
      "execution_count": 11,
      "outputs": [
        {
          "output_type": "stream",
          "name": "stdout",
          "text": [
            "Yesterday: 2024-07-22\n",
            "Today: 2024-07-23\n",
            "Tomorrow: 2024-07-24\n"
          ]
        }
      ]
    },
    {
      "cell_type": "markdown",
      "source": [
        "###### 12. Write a NumPy program to find the first Monday in May 2017."
      ],
      "metadata": {
        "id": "-y3xiL7_GZ3D"
      }
    },
    {
      "cell_type": "code",
      "source": [
        "## code here\n",
        "from datetime import date, timedelta\n",
        "\n",
        "# Start with the first day of May 2017\n",
        "day = date(2017, 5, 1)\n",
        "\n",
        "# Find the first Monday\n",
        "while day.weekday() != 0:  # 0 represents Monday\n",
        "    day += timedelta(days=1)\n",
        "\n",
        "# Print the result\n",
        "print(\"First Monday in May 2017:\")\n",
        "print(day)"
      ],
      "metadata": {
        "id": "roe76-pSGNX4",
        "colab": {
          "base_uri": "https://localhost:8080/"
        },
        "outputId": "23df9561-3c79-467d-bef0-aac32af44523"
      },
      "execution_count": 12,
      "outputs": [
        {
          "output_type": "stream",
          "name": "stdout",
          "text": [
            "First Monday in May 2017:\n",
            "2017-05-01\n"
          ]
        }
      ]
    },
    {
      "cell_type": "code",
      "source": [
        "## sample output"
      ],
      "metadata": {
        "colab": {
          "base_uri": "https://localhost:8080/"
        },
        "id": "gF_q2GENGNat",
        "outputId": "1d5a4aec-f19b-4a2d-9122-57c49d7fa6d2"
      },
      "execution_count": null,
      "outputs": [
        {
          "output_type": "stream",
          "name": "stdout",
          "text": [
            "First Monday in May 2017:\n",
            "2017-05-01\n"
          ]
        }
      ]
    },
    {
      "cell_type": "code",
      "source": [],
      "metadata": {
        "id": "n94g4wnlGe2o"
      },
      "execution_count": null,
      "outputs": []
    }
  ]
}